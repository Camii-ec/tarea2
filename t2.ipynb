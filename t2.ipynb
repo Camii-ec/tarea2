{
  "cells": [
    {
      "cell_type": "raw",
      "metadata": {},
      "source": [
        "---\n",
        "title: \"Tarea 2\"\n",
        "subtitle: \"EYP3407 - Tópicos Aplicados en estadística\"\n",
        "author: \n",
        "    - Camila Echeverría\n",
        "    - Francisca Vilca\n",
        "format:\n",
        "    html:\n",
        "        code-fold: false\n",
        "        embed-resources: true\n",
        "        toc: true\n",
        "        toc-title: \"Contenidos\"\n",
        "---"
      ],
      "id": "1a34b243"
    },
    {
      "cell_type": "markdown",
      "metadata": {},
      "source": [
        "## Pregunta 1\n",
        "\n",
        "## Pregunta 2\n"
      ],
      "id": "e24b128b"
    },
    {
      "cell_type": "code",
      "metadata": {
        "message": false,
        "results": "hide"
      },
      "source": [
        "#| warning: false\n",
        "\n",
        "## Librerías Python\n",
        "\n",
        "# Tratamiento\n",
        "import pandas as pd\n",
        "import numpy as np\n",
        "\n",
        "# Gráfico\n",
        "import matplotlib.pyplot as plt\n",
        "from matplotlib import style\n",
        "import seaborn as sns\n",
        "\n",
        "# Preprocesamiento\n",
        "from scipy.stats import pearsonr\n",
        "from sklearn.model_selection import train_test_split\n",
        "from sklearn.metrics import mean_squared_error\n",
        "from sklearn.linear_model import LinearRegression\n",
        "from sklearn.linear_model import Ridge \n",
        "from sklearn.linear_model import Lasso\n",
        "from sklearn.linear_model import ElasticNet\n",
        "from sklearn.linear_model import RidgeCV \n",
        "from sklearn.linear_model import LassoCV\n",
        "from sklearn.linear_model import ElasticNetCV\n",
        "\n",
        "# Configuración matplotlib\n",
        "plt.rcParams['image.cmap'] = \"bwr\"\n",
        "plt.rcParams['savefig.bbox'] = \"tight\"\n",
        "style.use('ggplot') or plt.style.use('ggplot')\n",
        "\n",
        "# Configuración warnings\n",
        "import warnings\n",
        "warnings.filterwarnings('ignore')"
      ],
      "id": "7e9aa4d1",
      "execution_count": null,
      "outputs": []
    },
    {
      "cell_type": "code",
      "metadata": {},
      "source": [
        "datos = pd.read_excel('hitters.xlsx')\n",
        "datos.info()"
      ],
      "id": "9a1e1b5a",
      "execution_count": null,
      "outputs": []
    },
    {
      "cell_type": "code",
      "metadata": {},
      "source": [
        "# Correlación entre columnas numéricas\n",
        "# ==============================================================================\n",
        "\n",
        "#Esto es para darle un formato bonito a la matriz de correlación\n",
        "def tidy_corr_matrix(corr_mat):\n",
        "    '''\n",
        "    Función para convertir una matriz de correlación de pandas en formato tidy\n",
        "    '''\n",
        "    corr_mat = corr_mat.stack().reset_index() #El stack transforma las matrices para que sean más visuales, mientras que el reset_index resetea el índice no más, tal cual\n",
        "    corr_mat.columns = ['variable_1','variable_2','r']\n",
        "    corr_mat = corr_mat.loc[corr_mat['variable_1'] != corr_mat['variable_2'], :] #Para que elimine todas las correlaciones de las diagonales, que son todas 1\n",
        "    corr_mat['abs_r'] = np.abs(corr_mat['r'])\n",
        "    corr_mat = corr_mat.sort_values('abs_r', ascending=False)\n",
        "    \n",
        "    return(corr_mat)\n",
        "\n",
        "corr_matrix = datos.select_dtypes(include=['float64', 'int'])\\\n",
        "              .corr(method='pearson') #Para que seleccione todos los números. El \\ es un equivalente al pipe, para que la weá corra en más de una línea\n",
        "\n",
        "tidy_corr_matrix(corr_matrix).head(10)"
      ],
      "id": "957e9290",
      "execution_count": null,
      "outputs": []
    },
    {
      "cell_type": "code",
      "metadata": {},
      "source": [
        "# Heatmap matriz de correlaciones\n",
        "# ==============================================================================\n",
        "fig, ax = plt.subplots(nrows=1, ncols=1, figsize=(6, 6))\n",
        "\n",
        "sns.heatmap(\n",
        "    corr_matrix,\n",
        "    square    = True,\n",
        "    ax        = ax\n",
        ")\n",
        "\n",
        "ax.tick_params(labelsize = 3)"
      ],
      "id": "2fead6d1",
      "execution_count": null,
      "outputs": []
    },
    {
      "cell_type": "markdown",
      "metadata": {},
      "source": [
        "### Esto pa la b\n"
      ],
      "id": "9053866b"
    },
    {
      "cell_type": "code",
      "metadata": {},
      "source": [
        "# División de los datos en train y test\n",
        "# ==============================================================================\n",
        "X = datos.drop(columns='Salary')\n",
        "y = datos['Salary']\n",
        "\n",
        "X_train, X_test, y_train, y_test = train_test_split(\n",
        "                                        X,\n",
        "                                        y.values.reshape(-1,1),\n",
        "                                        train_size   = 0.7,\n",
        "                                        random_state = 3312,\n",
        "                                        shuffle      = True\n",
        "                                    )"
      ],
      "id": "efa30ef4",
      "execution_count": null,
      "outputs": []
    },
    {
      "cell_type": "markdown",
      "metadata": {},
      "source": [
        "Mínimos cuadrados ordinarios \n"
      ],
      "id": "3ac6b14d"
    },
    {
      "cell_type": "code",
      "metadata": {},
      "source": [
        "# Creación y entrenamiento del modelo\n",
        "# ==============================================================================\n",
        "modelo = LinearRegression()\n",
        "modelo.fit(X = X_train, y = y_train)"
      ],
      "id": "37327326",
      "execution_count": null,
      "outputs": []
    }
  ],
  "metadata": {
    "kernelspec": {
      "name": "python3",
      "language": "python",
      "display_name": "Python 3 (ipykernel)"
    }
  },
  "nbformat": 4,
  "nbformat_minor": 5
}